{
 "cells": [
  {
   "cell_type": "code",
   "execution_count": 7,
   "metadata": {},
   "outputs": [
    {
     "name": "stdout",
     "output_type": "stream",
     "text": [
      "[{'lower': 'a', 'upper': 'A', 'index': 1}, {'lower': 'b', 'upper': 'B', 'index': 2}, {'lower': 'c', 'upper': 'C', 'index': 3}, {'lower': 'd', 'upper': 'D', 'index': 4}, {'lower': 'e', 'upper': 'E', 'index': 5}, {'lower': 'f', 'upper': 'F', 'index': 6}, {'lower': 'g', 'upper': 'G', 'index': 7}, {'lower': 'h', 'upper': 'H', 'index': 8}, {'lower': 'i', 'upper': 'I', 'index': 9}, {'lower': 'j', 'upper': 'J', 'index': 10}, {'lower': 'k', 'upper': 'K', 'index': 11}, {'lower': 'l', 'upper': 'L', 'index': 12}, {'lower': 'm', 'upper': 'M', 'index': 13}, {'lower': 'n', 'upper': 'N', 'index': 14}, {'lower': 'o', 'upper': 'O', 'index': 15}, {'lower': 'p', 'upper': 'P', 'index': 16}, {'lower': 'q', 'upper': 'Q', 'index': 17}, {'lower': 'r', 'upper': 'R', 'index': 18}, {'lower': 's', 'upper': 'S', 'index': 19}, {'lower': 't', 'upper': 'T', 'index': 20}, {'lower': 'u', 'upper': 'U', 'index': 21}, {'lower': 'v', 'upper': 'V', 'index': 22}, {'lower': 'w', 'upper': 'W', 'index': 23}, {'lower': 'x', 'upper': 'X', 'index': 24}, {'lower': 'y', 'upper': 'Y', 'index': 25}, {'lower': 'z', 'upper': 'Z', 'index': 26}]\n"
     ]
    }
   ],
   "source": [
    "import pandas as pd\n",
    "\n",
    "alphabet_data = []\n",
    "\n",
    "for i in range(1,27):\n",
    "    alphabet_data.append({'lower' : chr(i+96), 'upper' : chr(i+64), 'index' : i})\n",
    "    \n",
    "alphabet_df = pd.DataFrame(alphabet_data)\n",
    "print(alphabet_data)"
   ]
  },
  {
   "cell_type": "code",
   "execution_count": null,
   "metadata": {},
   "outputs": [],
   "source": []
  }
 ],
 "metadata": {
  "kernelspec": {
   "display_name": "Python 3",
   "language": "python",
   "name": "python3"
  },
  "language_info": {
   "codemirror_mode": {
    "name": "ipython",
    "version": 3
   },
   "file_extension": ".py",
   "mimetype": "text/x-python",
   "name": "python",
   "nbconvert_exporter": "python",
   "pygments_lexer": "ipython3",
   "version": "3.6.6"
  }
 },
 "nbformat": 4,
 "nbformat_minor": 2
}
